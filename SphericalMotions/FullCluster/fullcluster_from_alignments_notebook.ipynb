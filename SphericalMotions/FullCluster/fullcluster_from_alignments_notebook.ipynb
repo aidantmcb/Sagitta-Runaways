{
 "cells": [
  {
   "cell_type": "code",
   "execution_count": 1,
   "metadata": {},
   "outputs": [],
   "source": [
    "### Spherical matching but with all stars in clusters\n",
    "import argparse\n",
    "\n",
    "import numpy as np\n",
    "import pandas as pd\n",
    "pd.options.mode.chained_assignment = None  # default='warn'\n",
    "\n",
    "from astropy.table import Table\n",
    "from astropy.io import fits\n",
    "from astropy.coordinates import LSR, ICRS, SkyCoord\n",
    "from astropy import units as u\n",
    "\n",
    "from itertools import combinations, product\n",
    "\n",
    "from scipy.spatial.distance import squareform\n",
    "\n",
    "from tqdm import tqdm\n",
    "\n",
    "kc19_fname = '/Users/aidanmcbride/Documents/Sagitta-Runaways/final6age.fits'\n",
    "sagitta_fname = '/Users/aidanmcbride/Documents/Sagitta-Runaways/Sagitta_HDBSCAN_named_.fits'\n",
    "output_fname = '/Users/aidanmcbride/Documents/Sagitta-Runaways/SphericalMotions/FullCluster/data_out/out-yymmdd.fits'\n",
    "\n",
    "from FullCluster_functions import (maketable, clusterspatialparams, clustermotionparams, getalignment, getregion, get_dist,\n",
    "                get_relative_velocity, get_tracebacktime, within_distance, bearing)\n",
    "\n",
    "## Parameters \n",
    "yso_cut = 0.9 #select all YSO > .9\n",
    "parallax_cut = 1 #select all parallax > 1 mas, or distance < 1000 pc"
   ]
  },
  {
   "cell_type": "code",
   "execution_count": 2,
   "metadata": {},
   "outputs": [
    {
     "name": "stdout",
     "output_type": "stream",
     "text": [
      "Labeled Clusters: 609\n"
     ]
    }
   ],
   "source": [
    "sagitta = maketable(sagitta_fname)\n",
    "sagitta.rename(columns = {'pms': 'yso'})\n",
    "\n",
    "for column in sagitta.columns:\n",
    "    if sagitta[column].dtype == 'object':\n",
    "        first = sagitta[column].iloc[0]\n",
    "        first = str(first)\n",
    "        if any(c.isalpha for c in first):\n",
    "            sagitta[column] = sagitta[column].astype('str')\n",
    "        elif '.' in first:\n",
    "            sagitta[column] = sagitta['column'].astype(float)\n",
    "        else:\n",
    "            sagitta[column] = sagitta['column'].astype(int)\n",
    "\n",
    "\n",
    "\n",
    "sagitta = sagitta.iloc[np.where((sagitta['yso'] > yso_cut) & (sagitta['parallax'] > parallax_cut))[0]]\n",
    "\n",
    "#Define l1 column for interactions that may happen across the l = 0 discontinuity\n",
    "if ('l1' in sagitta.columns):\n",
    "    sagitta.drop(columns=['l1']) #reset this column if it already exists\n",
    "sagitta['l1'] = sagitta['l']\n",
    "over180 = np.where(sagitta['l1']>180)[0]\n",
    "sagitta['l1'].iloc[over180] = sagitta['l1'].iloc[over180]-360\n",
    "\n",
    "# Extract all labels from clustering, remove the unclustered (-1) sources\n",
    "labels = np.sort(np.unique(sagitta['labels']))\n",
    "if -1 in labels:\n",
    "    labels = np.delete(labels, 0)\n",
    "print('Labeled Clusters:', len(labels))\n",
    "\n",
    "\n",
    "np.random.seed(1)\n",
    "# downsample_by = 50\n",
    "# sagitta = sagitta.iloc[np.random.choice(len(sagitta), int(len(sagitta)/downsample_by))]\n",
    "# print(len(sagitta))\n",
    "\n",
    "d1, d2 = (sagitta.iloc[np.where(sagitta['labels']!=-1)[0]], sagitta.iloc[np.where(sagitta['labels']==-1)[0]])\n",
    "\n",
    "# alignments = np.loadtxt('/Users/aidanmcbride/Documents/Sagitta-Runaways/SphericalMotions/FullCluster/data_out/alignments_full.gz')\n",
    "# # print(len(alignments))\n",
    "# alignments = alignments.reshape((len(d1), len(d2))) #make to a matrix with rows and cols representing indices\n",
    "\n",
    "# points1 = np.where(1 - np.abs(alignments) < 0.1)[0]\n",
    "# points2 = np.where(1-np.abs(alignments) < 0.1)[1]\n",
    "# np.savetxt('/Users/aidanmcbride/Documents/Sagitta-Runaways/SphericalMotions/FullCluster/data_out/ind1.gz', points1)\n",
    "# np.savetxt('/Users/aidanmcbride/Documents/Sagitta-Runaways/SphericalMotions/FullCluster/data_out/ind2.gz', points2)\n",
    "# print(alignments.shape)\n",
    "# print(len(d1) * len(d2))\n",
    "\n",
    "points1 = np.loadtxt('/Users/aidanmcbride/Documents/Sagitta-Runaways/SphericalMotions/FullCluster/data_out/ind1.txt')\n",
    "points2 = np.loadtxt('/Users/aidanmcbride/Documents/Sagitta-Runaways/SphericalMotions/FullCluster/data_out/ind2.txt')#takes about 18min\n",
    "\n",
    "# np.savetxt('/Users/aidanmcbride/Documents/Sagitta-Runaways/SphericalMotions/FullCluster/data_out/ind1.txt', points1)\n",
    "# np.savetxt('/Users/aidanmcbride/Documents/Sagitta-Runaways/SphericalMotions/FullCluster/data_out/ind2.txt', points2)"
   ]
  },
  {
   "cell_type": "code",
   "execution_count": 2,
   "metadata": {},
   "outputs": [
    {
     "ename": "NameError",
     "evalue": "name 'points2' is not defined",
     "output_type": "error",
     "traceback": [
      "\u001b[0;31m---------------------------------------------------------------------------\u001b[0m",
      "\u001b[0;31mNameError\u001b[0m                                 Traceback (most recent call last)",
      "\u001b[0;32m/var/folders/pz/sgyllgv13qnfqwl9zwk1zd380000gn/T/ipykernel_29214/3027156223.py\u001b[0m in \u001b[0;36m<module>\u001b[0;34m\u001b[0m\n\u001b[1;32m      1\u001b[0m \u001b[0;31m# points1 = points1.astype(int)\u001b[0m\u001b[0;34m\u001b[0m\u001b[0;34m\u001b[0m\u001b[0m\n\u001b[0;32m----> 2\u001b[0;31m \u001b[0mpoints2\u001b[0m \u001b[0;34m=\u001b[0m \u001b[0mpoints2\u001b[0m\u001b[0;34m.\u001b[0m\u001b[0mastype\u001b[0m\u001b[0;34m(\u001b[0m\u001b[0mint\u001b[0m\u001b[0;34m)\u001b[0m\u001b[0;34m\u001b[0m\u001b[0;34m\u001b[0m\u001b[0m\n\u001b[0m\u001b[1;32m      3\u001b[0m \u001b[0mtab1\u001b[0m \u001b[0;34m=\u001b[0m \u001b[0md1\u001b[0m\u001b[0;34m.\u001b[0m\u001b[0miloc\u001b[0m\u001b[0;34m[\u001b[0m\u001b[0mpoints1\u001b[0m\u001b[0;34m]\u001b[0m\u001b[0;34m\u001b[0m\u001b[0;34m\u001b[0m\u001b[0m\n\u001b[1;32m      4\u001b[0m \u001b[0mtab2\u001b[0m \u001b[0;34m=\u001b[0m \u001b[0md2\u001b[0m\u001b[0;34m.\u001b[0m\u001b[0miloc\u001b[0m\u001b[0;34m[\u001b[0m\u001b[0mpoints2\u001b[0m\u001b[0;34m]\u001b[0m\u001b[0;34m\u001b[0m\u001b[0;34m\u001b[0m\u001b[0m\n",
      "\u001b[0;31mNameError\u001b[0m: name 'points2' is not defined"
     ]
    }
   ],
   "source": [
    "# points1 = points1.astype(int)\n",
    "points2 = points2.astype(int)\n",
    "tab1 = d1.iloc[points1]\n",
    "tab2 = d2.iloc[points2]"
   ]
  },
  {
   "cell_type": "code",
   "execution_count": 1,
   "metadata": {},
   "outputs": [
    {
     "ename": "NameError",
     "evalue": "name 'tab1' is not defined",
     "output_type": "error",
     "traceback": [
      "\u001b[0;31m---------------------------------------------------------------------------\u001b[0m",
      "\u001b[0;31mNameError\u001b[0m                                 Traceback (most recent call last)",
      "\u001b[0;32m/var/folders/pz/sgyllgv13qnfqwl9zwk1zd380000gn/T/ipykernel_29214/3773562992.py\u001b[0m in \u001b[0;36m<module>\u001b[0;34m\u001b[0m\n\u001b[0;32m----> 1\u001b[0;31m \u001b[0mprint\u001b[0m\u001b[0;34m(\u001b[0m\u001b[0mlen\u001b[0m\u001b[0;34m(\u001b[0m\u001b[0mtab1\u001b[0m\u001b[0;34m)\u001b[0m\u001b[0;34m/\u001b[0m\u001b[0;36m915559107\u001b[0m\u001b[0;34m)\u001b[0m\u001b[0;34m\u001b[0m\u001b[0;34m\u001b[0m\u001b[0m\n\u001b[0m",
      "\u001b[0;31mNameError\u001b[0m: name 'tab1' is not defined"
     ]
    }
   ],
   "source": [
    "print(len(tab1)/915559107)"
   ]
  },
  {
   "cell_type": "code",
   "execution_count": null,
   "metadata": {},
   "outputs": [
    {
     "ename": "SyntaxError",
     "evalue": "unexpected EOF while parsing (2977718154.py, line 1)",
     "output_type": "error",
     "traceback": [
      "\u001b[0;36m  File \u001b[0;32m\"/var/folders/pz/sgyllgv13qnfqwl9zwk1zd380000gn/T/ipykernel_28522/2977718154.py\"\u001b[0;36m, line \u001b[0;32m1\u001b[0m\n\u001b[0;31m    print(len(tab1)\u001b[0m\n\u001b[0m                   ^\u001b[0m\n\u001b[0;31mSyntaxError\u001b[0m\u001b[0;31m:\u001b[0m unexpected EOF while parsing\n"
     ]
    }
   ],
   "source": [
    "print(len(tab1))"
   ]
  },
  {
   "cell_type": "code",
   "execution_count": null,
   "metadata": {},
   "outputs": [],
   "source": [
    "def thing(row1, row2):\n",
    "    l, b, vlsrl, vlsrb = (0,1,2,3)\n",
    "\n",
    "    starl = row2[:,0]\n",
    "    \n",
    "    if 360 - starl < 90:\n",
    "        l = 4\n",
    "        row2[:,0] = starl - 360 #this might be a problem\n",
    "    elif starl < 90:\n",
    "        l = 4\n",
    "\n",
    "    lon3 = (row1[:,l] - (row1[:,vlsrl] - row2[:,vlsrl])/1e3/3600)\n",
    "    lat3 = (row1[:,b] - (row1[:,vlsrb] - row2[:,vlsrb])/1e3/3600)\n",
    "\n",
    "    bearing_to = bearing(row1[:,b], row1[:,l], row2[:,b], row2[:,l])\n",
    "    bearing_of = bearing(row1[:,b], row1[:,l], lat3, lon3)\n",
    "    alignment = np.cos(bearing_of - bearing_to)\n",
    "\n",
    "    return alignment\n",
    "\n",
    "d1 = tab1[['l', 'b', 'vlsrl', 'vlsrb', 'l1']].values\n",
    "d2 = tab2[['l', 'b', 'vlsrl', 'vlsrb', 'l1']].values #could use THESE to sort after doing pair_first, second\n",
    "# alignments_array = np.zeros(len(d1) * len(d2))\n",
    "# counter = 0\n",
    "# for pair in tqdm(product(d1, d2), total = len(d1) * len(d2)):\n",
    "    # a = thing(*pair)\n",
    "    # alignments_array[counter] = a\n",
    "    # counter += 1\n",
    "    \n",
    "alignments = thing(d1, d2)"
   ]
  },
  {
   "cell_type": "code",
   "execution_count": null,
   "metadata": {},
   "outputs": [
    {
     "ename": "NameError",
     "evalue": "name 'np' is not defined",
     "output_type": "error",
     "traceback": [
      "\u001b[0;31m---------------------------------------------------------------------------\u001b[0m",
      "\u001b[0;31mNameError\u001b[0m                                 Traceback (most recent call last)",
      "\u001b[0;32m/var/folders/pz/sgyllgv13qnfqwl9zwk1zd380000gn/T/ipykernel_28919/699786579.py\u001b[0m in \u001b[0;36m<module>\u001b[0;34m\u001b[0m\n\u001b[0;32m----> 1\u001b[0;31m \u001b[0mnp\u001b[0m\u001b[0;34m.\u001b[0m\u001b[0mabs\u001b[0m\u001b[0;34m(\u001b[0m\u001b[0;34m-\u001b[0m\u001b[0;36m1\u001b[0m\u001b[0;34m)\u001b[0m\u001b[0;34m\u001b[0m\u001b[0;34m\u001b[0m\u001b[0m\n\u001b[0m",
      "\u001b[0;31mNameError\u001b[0m: name 'np' is not defined"
     ]
    }
   ],
   "source": []
  }
 ],
 "metadata": {
  "interpreter": {
   "hash": "aee8b7b246df8f9039afb4144a1f6fd8d2ca17a180786b69acc140d282b71a49"
  },
  "kernelspec": {
   "display_name": "Python 3 (ipykernel)",
   "language": "python",
   "name": "python3"
  },
  "language_info": {
   "codemirror_mode": {
    "name": "ipython",
    "version": 3
   },
   "file_extension": ".py",
   "mimetype": "text/x-python",
   "name": "python",
   "nbconvert_exporter": "python",
   "pygments_lexer": "ipython3",
   "version": "3.9.7"
  }
 },
 "nbformat": 4,
 "nbformat_minor": 4
}
